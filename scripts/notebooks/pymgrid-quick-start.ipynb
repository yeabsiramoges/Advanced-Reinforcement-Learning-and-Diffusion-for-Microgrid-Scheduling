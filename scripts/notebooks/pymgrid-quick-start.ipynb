{
 "cells": [
  {
   "cell_type": "markdown",
   "id": "6266a327",
   "metadata": {},
   "source": [
    "## Quick Start\n",
    "\n",
    "To get started with *pymgrid*, first [clone or install](../../html/getting_started.html) the package.\n",
    "\n",
    "This notebook shows how to define a simple microgrid, create actions to control it, and read the results. Microgrids can be defined by either defining a set of modules and then passing them to the ``Microgrid`` constructor or by a YAML config file. We detail the first case here."
   ]
  },
  {
   "cell_type": "code",
   "execution_count": 1,
   "id": "6516d304",
   "metadata": {},
   "outputs": [
    {
     "name": "stderr",
     "output_type": "stream",
     "text": [
      "Matplotlib is building the font cache; this may take a moment.\n"
     ]
    }
   ],
   "source": [
    "import numpy as np\n",
    "import pandas as pd\n",
    "\n",
    "np.random.seed(0)\n",
    "\n",
    "from pymgrid import Microgrid\n",
    "from pymgrid.modules import BatteryModule, LoadModule, RenewableModule, GridModule"
   ]
  },
  {
   "cell_type": "markdown",
   "id": "00673154",
   "metadata": {},
   "source": [
    "### Defining a Microgrid"
   ]
  },
  {
   "cell_type": "markdown",
   "id": "d57b8952",
   "metadata": {},
   "source": [
    "We can then define some components of our microgrid. We will define two batteries, one with a capacity of 100 kWh and another with a slower charging rate and lower efficiency but a capacity of 1000 kWh."
   ]
  },
  {
   "cell_type": "code",
   "execution_count": 2,
   "id": "53c9221a",
   "metadata": {},
   "outputs": [],
   "source": [
    "small_battery = BatteryModule(\n",
    "    min_capacity=10,\n",
    "    max_capacity=100,\n",
    "    max_charge=50,\n",
    "    max_discharge=50,\n",
    "    efficiency=0.9,\n",
    "    init_soc=0.2,\n",
    ")\n",
    "\n",
    "large_battery = BatteryModule(\n",
    "    min_capacity=10,\n",
    "    max_capacity=1000,\n",
    "    max_charge=10,\n",
    "    max_discharge=10,\n",
    "    efficiency=0.7,\n",
    "    init_soc=0.2,\n",
    ")"
   ]
  },
  {
   "cell_type": "markdown",
   "id": "f3b248b0",
   "metadata": {},
   "source": [
    "We will also define a load and photovoltaic (pv) module -- the latter representing, say, a solar farm -- with some random data. We will define 90 days worth of data, in hourly increments."
   ]
  },
  {
   "cell_type": "code",
   "execution_count": 4,
   "id": "75d6d6df",
   "metadata": {},
   "outputs": [],
   "source": [
    "load_ts = 100 + 100 * np.random.rand(\n",
    "    24 * 90\n",
    ")  # random load data in the range [100, 200].\n",
    "pv_ts = 200 * np.random.rand(24 * 90)  # random pv data in the range [0, 200].\n",
    "\n",
    "load = LoadModule(time_series=load_ts)\n",
    "\n",
    "pv = RenewableModule(time_series=pv_ts)"
   ]
  },
  {
   "cell_type": "markdown",
   "id": "c1739938",
   "metadata": {},
   "source": [
    "Finally, we define an external electrical grid to fill any energy gaps. \n",
    "\n",
    "The grid time series must contain three or four columns. The first three denote import price, export price, and carbon dioxide production per kWh. If a fourth column exists, it denotes the grid status (as a bool); if it does not, the grid is assumed to always be up and running."
   ]
  },
  {
   "cell_type": "code",
   "execution_count": 5,
   "id": "2c250ad4",
   "metadata": {},
   "outputs": [],
   "source": [
    "grid_ts = [0.2, 0.1, 0.5] * np.ones((24 * 90, 3))\n",
    "\n",
    "grid = GridModule(max_import=100, max_export=100, time_series=grid_ts)"
   ]
  },
  {
   "cell_type": "markdown",
   "id": "2c0c94b0",
   "metadata": {},
   "source": [
    "We can then pass these to the ``Microgrid`` constructor to define a microgrid. Here, we give our renewable module the name \"pv\"."
   ]
  },
  {
   "cell_type": "code",
   "execution_count": 6,
   "id": "3f584c56",
   "metadata": {},
   "outputs": [],
   "source": [
    "modules = [small_battery, large_battery, (\"pv\", pv), load, grid]\n",
    "\n",
    "microgrid = Microgrid(modules)"
   ]
  },
  {
   "cell_type": "markdown",
   "id": "c9b42b83",
   "metadata": {},
   "source": [
    "Printing the microgrid will tell us the modules contained in that microgrid. By default a ``balancing`` module is added to keep track of any unmet demand or excess production. This can be disabled by passing ``unbalanced_energy_module=False``, but is not recommended."
   ]
  },
  {
   "cell_type": "code",
   "execution_count": 7,
   "id": "e893b0a4",
   "metadata": {
    "scrolled": true
   },
   "outputs": [
    {
     "name": "stdout",
     "output_type": "stream",
     "text": [
      "Microgrid([load x 1, pv x 1, balancing x 1, battery x 2, grid x 1])\n"
     ]
    }
   ],
   "source": [
    "print(microgrid)"
   ]
  },
  {
   "cell_type": "markdown",
   "id": "bf68ba4e",
   "metadata": {},
   "source": [
    "We can then access the modules in the microgrid by name or by key:"
   ]
  },
  {
   "cell_type": "code",
   "execution_count": 8,
   "id": "d45899bd",
   "metadata": {},
   "outputs": [
    {
     "name": "stdout",
     "output_type": "stream",
     "text": [
      "[RenewableModule(time_series=<class 'numpy.ndarray'>, raise_errors=False, forecaster=NoForecaster, forecast_horizon=0, forecaster_increase_uncertainty=False, forecaster_relative_noise=False, initial_step=0, final_step=2160, normalized_action_bounds=<class 'tuple'>, provided_energy_name=renewable_used)]\n"
     ]
    }
   ],
   "source": [
    "print(microgrid.modules.pv)"
   ]
  },
  {
   "cell_type": "code",
   "execution_count": 9,
   "id": "6bcf9b54",
   "metadata": {},
   "outputs": [
    {
     "name": "stdout",
     "output_type": "stream",
     "text": [
      "True\n"
     ]
    }
   ],
   "source": [
    "print(microgrid.modules.grid is microgrid.modules[\"grid\"])"
   ]
  },
  {
   "cell_type": "markdown",
   "id": "e3eb58cd",
   "metadata": {},
   "source": [
    "### Controlling a microgrid\n",
    "\n",
    "You must pass an action for each ``controllable`` module to control the microgrid. The fixed modules are stored in the attribute ``microgrid.controllable``:"
   ]
  },
  {
   "cell_type": "code",
   "execution_count": 10,
   "id": "a360f3dc",
   "metadata": {
    "scrolled": true
   },
   "outputs": [
    {
     "data": {
      "text/plain": [
       "{\n",
       "  \"battery\": \"[BatteryModule(min_capacity=10, max_capacity=100, max_charge=50, max_discharge=50, efficiency=0.9, battery_cost_cycle=0.0, battery_transition_model=BatteryTransitionModel(), init_charge=None, init_soc=0.2, initial_step=0, normalized_action_bounds=<class 'tuple'>, raise_errors=False), BatteryModule(min_capacity=10, max_capacity=1000, max_charge=10, max_discharge=10, efficiency=0.7, battery_cost_cycle=0.0, battery_transition_model=BatteryTransitionModel(), init_charge=None, init_soc=0.2, initial_step=0, normalized_action_bounds=<class 'tuple'>, raise_errors=False)]\",\n",
       "  \"grid\": \"[GridModule(max_import=100, max_export=100)]\"\n",
       "}"
      ]
     },
     "execution_count": 10,
     "metadata": {},
     "output_type": "execute_result"
    }
   ],
   "source": [
    "microgrid.controllable"
   ]
  },
  {
   "cell_type": "markdown",
   "id": "08cd3053",
   "metadata": {},
   "source": [
    "As we can see, our \"load\", \"battery\", and \"grid\" modules are fixed.\n",
    "\n",
    "We can also view what modules we need to pass an action for by getting an empty action from the microgrid. Here, all ``None`` values must be replaced to pass this action as a control."
   ]
  },
  {
   "cell_type": "code",
   "execution_count": 11,
   "id": "2d94930f",
   "metadata": {
    "scrolled": true
   },
   "outputs": [
    {
     "name": "stdout",
     "output_type": "stream",
     "text": [
      "{'battery': [None, None], 'grid': [None]}\n"
     ]
    }
   ],
   "source": [
    "print(microgrid.get_empty_action())"
   ]
  },
  {
   "cell_type": "markdown",
   "id": "d3337709",
   "metadata": {},
   "source": [
    "We can then simply define a control for these modules. Before doing so, we will reset our microgrid and then check its current state."
   ]
  },
  {
   "cell_type": "code",
   "execution_count": 17,
   "id": "117a7ae8",
   "metadata": {},
   "outputs": [
    {
     "data": {
      "text/html": [
       "<div>\n",
       "<style scoped>\n",
       "    .dataframe tbody tr th:only-of-type {\n",
       "        vertical-align: middle;\n",
       "    }\n",
       "\n",
       "    .dataframe tbody tr th {\n",
       "        vertical-align: top;\n",
       "    }\n",
       "\n",
       "    .dataframe thead th {\n",
       "        text-align: right;\n",
       "    }\n",
       "</style>\n",
       "<table border=\"1\" class=\"dataframe\">\n",
       "  <thead>\n",
       "    <tr style=\"text-align: right;\">\n",
       "      <th></th>\n",
       "      <th></th>\n",
       "      <th></th>\n",
       "      <th>0</th>\n",
       "    </tr>\n",
       "  </thead>\n",
       "  <tbody>\n",
       "    <tr>\n",
       "      <th>load</th>\n",
       "      <th>0</th>\n",
       "      <th>load_current</th>\n",
       "      <td>-173.377380</td>\n",
       "    </tr>\n",
       "    <tr>\n",
       "      <th>pv</th>\n",
       "      <th>0</th>\n",
       "      <th>renewable_current</th>\n",
       "      <td>142.749871</td>\n",
       "    </tr>\n",
       "    <tr>\n",
       "      <th rowspan=\"4\" valign=\"top\">battery</th>\n",
       "      <th rowspan=\"2\" valign=\"top\">0</th>\n",
       "      <th>soc</th>\n",
       "      <td>0.200000</td>\n",
       "    </tr>\n",
       "    <tr>\n",
       "      <th>current_charge</th>\n",
       "      <td>20.000000</td>\n",
       "    </tr>\n",
       "    <tr>\n",
       "      <th rowspan=\"2\" valign=\"top\">1</th>\n",
       "      <th>soc</th>\n",
       "      <td>0.200000</td>\n",
       "    </tr>\n",
       "    <tr>\n",
       "      <th>current_charge</th>\n",
       "      <td>200.000000</td>\n",
       "    </tr>\n",
       "    <tr>\n",
       "      <th rowspan=\"4\" valign=\"top\">grid</th>\n",
       "      <th rowspan=\"4\" valign=\"top\">0</th>\n",
       "      <th>import_price_current</th>\n",
       "      <td>0.200000</td>\n",
       "    </tr>\n",
       "    <tr>\n",
       "      <th>export_price_current</th>\n",
       "      <td>0.100000</td>\n",
       "    </tr>\n",
       "    <tr>\n",
       "      <th>co2_per_kwh_current</th>\n",
       "      <td>0.500000</td>\n",
       "    </tr>\n",
       "    <tr>\n",
       "      <th>grid_status_current</th>\n",
       "      <td>1.000000</td>\n",
       "    </tr>\n",
       "  </tbody>\n",
       "</table>\n",
       "</div>"
      ],
      "text/plain": [
       "                                         0\n",
       "load    0 load_current         -173.377380\n",
       "pv      0 renewable_current     142.749871\n",
       "battery 0 soc                     0.200000\n",
       "          current_charge         20.000000\n",
       "        1 soc                     0.200000\n",
       "          current_charge        200.000000\n",
       "grid    0 import_price_current    0.200000\n",
       "          export_price_current    0.100000\n",
       "          co2_per_kwh_current     0.500000\n",
       "          grid_status_current     1.000000"
      ]
     },
     "execution_count": 17,
     "metadata": {},
     "output_type": "execute_result"
    }
   ],
   "source": [
    "microgrid.reset()\n",
    "microgrid.state_series().to_frame()"
   ]
  },
  {
   "cell_type": "markdown",
   "id": "5b4d2638",
   "metadata": {},
   "source": [
    "We will attempt to meet our load demand of 169.646919 by using our available renewable and then discharging our batteries:"
   ]
  },
  {
   "cell_type": "code",
   "execution_count": 18,
   "id": "c2c64cfa",
   "metadata": {},
   "outputs": [],
   "source": [
    "load = -1.0 * microgrid.modules.load.item().current_load\n",
    "pv = microgrid.modules.pv.item().current_renewable"
   ]
  },
  {
   "cell_type": "code",
   "execution_count": 19,
   "id": "79b1ef8a",
   "metadata": {},
   "outputs": [],
   "source": [
    "net_load = load + pv  # negative if load demand exceeds pv\n",
    "\n",
    "if net_load > 0:\n",
    "    net_load = 0.0"
   ]
  },
  {
   "cell_type": "markdown",
   "id": "190fe39c",
   "metadata": {},
   "source": [
    "For our batteries, we will attempt to generate the lower of the excess load and the maximum production."
   ]
  },
  {
   "cell_type": "code",
   "execution_count": 20,
   "id": "8424911a",
   "metadata": {},
   "outputs": [],
   "source": [
    "battery_0_discharge = min(-1 * net_load, microgrid.modules.battery[0].max_production)\n",
    "net_load += battery_0_discharge\n",
    "\n",
    "battery_1_discharge = min(-1 * net_load, microgrid.modules.battery[1].max_production)\n",
    "net_load += battery_1_discharge"
   ]
  },
  {
   "cell_type": "markdown",
   "id": "90700c09",
   "metadata": {},
   "source": [
    "Finally, we will let our grid clean up the rest -- or as must as it can."
   ]
  },
  {
   "cell_type": "code",
   "execution_count": 21,
   "id": "6aa7b085",
   "metadata": {
    "scrolled": true
   },
   "outputs": [],
   "source": [
    "grid_import = min(-1 * net_load, microgrid.modules.grid.item().max_production)"
   ]
  },
  {
   "cell_type": "markdown",
   "id": "027419ac",
   "metadata": {},
   "source": [
    "Putting this together, we have our control. \n",
    "\n",
    "**Note that positive values denote energy moving into the microgrid and negative values denote energy leaving the microgrid.**"
   ]
  },
  {
   "cell_type": "code",
   "execution_count": 22,
   "id": "e2ed2c6f",
   "metadata": {},
   "outputs": [
    {
     "data": {
      "text/plain": [
       "{'battery': [9.0, 7.0], 'grid': [14.627508674260326]}"
      ]
     },
     "execution_count": 22,
     "metadata": {},
     "output_type": "execute_result"
    }
   ],
   "source": [
    "control = {\"battery\": [battery_0_discharge, battery_1_discharge], \"grid\": [grid_import]}\n",
    "\n",
    "control"
   ]
  },
  {
   "cell_type": "markdown",
   "id": "36681d36",
   "metadata": {},
   "source": [
    "We can then run the microgrid with this control. Since this control is not normalized, we pass ``normalized=False``."
   ]
  },
  {
   "cell_type": "code",
   "execution_count": 24,
   "id": "d2212f7b",
   "metadata": {
    "scrolled": false
   },
   "outputs": [],
   "source": [
    "obs, reward, done, info = microgrid.step(control, normalized=False)"
   ]
  },
  {
   "cell_type": "markdown",
   "id": "df844499",
   "metadata": {},
   "source": [
    "### Analyzing Results\n",
    "\n",
    "After passing a control to the microgrid, we can view the results by viewing the microgrid's -- or any of the modules -- logs. \n",
    "\n",
    "The microgrid's log has one row for each action taken. There are values for both the actions -- e.g. the amount of load met -- as well as the state: for example, the current load. \n",
    "\n",
    "**Note that the state values are the values of the state from *before* the action was taken.**\n",
    "\n",
    "The columns are a ``pd.MultiIndex``, with three levels: module names, module name enumeration (e.g. which number of each module name we are in) and property.\n",
    "\n",
    "For example, since there is one ``load``, all of its log entries will be available under the key ``('load', 0)``. Since there are two batteries, there will be both ``(battery, 0)`` and ``(battery, 1)``."
   ]
  },
  {
   "cell_type": "markdown",
   "id": "c5f570ef",
   "metadata": {},
   "source": [
    "We can see that we met all of our load:"
   ]
  },
  {
   "cell_type": "code",
   "execution_count": 25,
   "id": "26121b4f",
   "metadata": {
    "scrolled": false
   },
   "outputs": [
    {
     "data": {
      "text/html": [
       "<div>\n",
       "<style scoped>\n",
       "    .dataframe tbody tr th:only-of-type {\n",
       "        vertical-align: middle;\n",
       "    }\n",
       "\n",
       "    .dataframe tbody tr th {\n",
       "        vertical-align: top;\n",
       "    }\n",
       "\n",
       "    .dataframe thead tr th {\n",
       "        text-align: left;\n",
       "    }\n",
       "</style>\n",
       "<table border=\"1\" class=\"dataframe\">\n",
       "  <thead>\n",
       "    <tr>\n",
       "      <th>module_name</th>\n",
       "      <th colspan=\"3\" halign=\"left\">load</th>\n",
       "    </tr>\n",
       "    <tr>\n",
       "      <th>module_number</th>\n",
       "      <th colspan=\"3\" halign=\"left\">0</th>\n",
       "    </tr>\n",
       "    <tr>\n",
       "      <th>field</th>\n",
       "      <th>load_current</th>\n",
       "      <th>load_met</th>\n",
       "      <th>reward</th>\n",
       "    </tr>\n",
       "  </thead>\n",
       "  <tbody>\n",
       "    <tr>\n",
       "      <th>0</th>\n",
       "      <td>-173.37738</td>\n",
       "      <td>173.37738</td>\n",
       "      <td>0.0</td>\n",
       "    </tr>\n",
       "  </tbody>\n",
       "</table>\n",
       "</div>"
      ],
      "text/plain": [
       "module_name           load                  \n",
       "module_number            0                  \n",
       "field         load_current   load_met reward\n",
       "0               -173.37738  173.37738    0.0"
      ]
     },
     "execution_count": 25,
     "metadata": {},
     "output_type": "execute_result"
    }
   ],
   "source": [
    "microgrid.log.loc[:, pd.IndexSlice[\"load\", 0, :]]"
   ]
  },
  {
   "cell_type": "markdown",
   "id": "56e7e758",
   "metadata": {},
   "source": [
    "And consumed all available pv, even though we did not define a control for it:"
   ]
  },
  {
   "cell_type": "code",
   "execution_count": 26,
   "id": "71ac1673",
   "metadata": {},
   "outputs": [
    {
     "data": {
      "text/html": [
       "<div>\n",
       "<style scoped>\n",
       "    .dataframe tbody tr th:only-of-type {\n",
       "        vertical-align: middle;\n",
       "    }\n",
       "\n",
       "    .dataframe tbody tr th {\n",
       "        vertical-align: top;\n",
       "    }\n",
       "\n",
       "    .dataframe thead tr th {\n",
       "        text-align: left;\n",
       "    }\n",
       "</style>\n",
       "<table border=\"1\" class=\"dataframe\">\n",
       "  <thead>\n",
       "    <tr>\n",
       "      <th>module_name</th>\n",
       "      <th colspan=\"4\" halign=\"left\">pv</th>\n",
       "    </tr>\n",
       "    <tr>\n",
       "      <th>module_number</th>\n",
       "      <th colspan=\"4\" halign=\"left\">0</th>\n",
       "    </tr>\n",
       "    <tr>\n",
       "      <th>field</th>\n",
       "      <th>curtailment</th>\n",
       "      <th>renewable_current</th>\n",
       "      <th>renewable_used</th>\n",
       "      <th>reward</th>\n",
       "    </tr>\n",
       "  </thead>\n",
       "  <tbody>\n",
       "    <tr>\n",
       "      <th>0</th>\n",
       "      <td>0.0</td>\n",
       "      <td>142.749871</td>\n",
       "      <td>142.749871</td>\n",
       "      <td>0.0</td>\n",
       "    </tr>\n",
       "  </tbody>\n",
       "</table>\n",
       "</div>"
      ],
      "text/plain": [
       "module_name            pv                                        \n",
       "module_number           0                                        \n",
       "field         curtailment renewable_current renewable_used reward\n",
       "0                     0.0        142.749871     142.749871    0.0"
      ]
     },
     "execution_count": 26,
     "metadata": {},
     "output_type": "execute_result"
    }
   ],
   "source": [
    "microgrid.log.loc[:, pd.IndexSlice[\"pv\", 0, :]]"
   ]
  },
  {
   "cell_type": "markdown",
   "id": "b0ddf53e",
   "metadata": {},
   "source": [
    "Since we have two batteries, we will have log entries for each of them:"
   ]
  },
  {
   "cell_type": "code",
   "execution_count": 27,
   "id": "7c032938",
   "metadata": {},
   "outputs": [
    {
     "data": {
      "text/html": [
       "<div>\n",
       "<style scoped>\n",
       "    .dataframe tbody tr th:only-of-type {\n",
       "        vertical-align: middle;\n",
       "    }\n",
       "\n",
       "    .dataframe tbody tr th {\n",
       "        vertical-align: top;\n",
       "    }\n",
       "\n",
       "    .dataframe thead tr th {\n",
       "        text-align: left;\n",
       "    }\n",
       "</style>\n",
       "<table border=\"1\" class=\"dataframe\">\n",
       "  <thead>\n",
       "    <tr>\n",
       "      <th>module_number</th>\n",
       "      <th colspan=\"5\" halign=\"left\">0</th>\n",
       "      <th colspan=\"5\" halign=\"left\">1</th>\n",
       "    </tr>\n",
       "    <tr>\n",
       "      <th>field</th>\n",
       "      <th>charge_amount</th>\n",
       "      <th>current_charge</th>\n",
       "      <th>discharge_amount</th>\n",
       "      <th>reward</th>\n",
       "      <th>soc</th>\n",
       "      <th>charge_amount</th>\n",
       "      <th>current_charge</th>\n",
       "      <th>discharge_amount</th>\n",
       "      <th>reward</th>\n",
       "      <th>soc</th>\n",
       "    </tr>\n",
       "  </thead>\n",
       "  <tbody>\n",
       "    <tr>\n",
       "      <th>0</th>\n",
       "      <td>0.0</td>\n",
       "      <td>20.0</td>\n",
       "      <td>9.0</td>\n",
       "      <td>-0.0</td>\n",
       "      <td>0.2</td>\n",
       "      <td>0.0</td>\n",
       "      <td>200.0</td>\n",
       "      <td>7.0</td>\n",
       "      <td>-0.0</td>\n",
       "      <td>0.2</td>\n",
       "    </tr>\n",
       "  </tbody>\n",
       "</table>\n",
       "</div>"
      ],
      "text/plain": [
       "module_number             0                                              \\\n",
       "field         charge_amount current_charge discharge_amount reward  soc   \n",
       "0                       0.0           20.0              9.0   -0.0  0.2   \n",
       "\n",
       "module_number             1                                              \n",
       "field         charge_amount current_charge discharge_amount reward  soc  \n",
       "0                       0.0          200.0              7.0   -0.0  0.2  "
      ]
     },
     "execution_count": 27,
     "metadata": {},
     "output_type": "execute_result"
    }
   ],
   "source": [
    "microgrid.log.loc[:, \"battery\"]"
   ]
  },
  {
   "cell_type": "markdown",
   "id": "6402dc5c",
   "metadata": {},
   "source": [
    "### Plotting Results\n",
    "\n",
    "We can also utilize pandas plotting functionality to view results. To illustrate this, we will run the microgrid for an additional ten steps with randomly sampled actions."
   ]
  },
  {
   "cell_type": "code",
   "execution_count": 29,
   "id": "298cbc0a",
   "metadata": {
    "scrolled": false
   },
   "outputs": [],
   "source": [
    "for _ in range(10):\n",
    "    microgrid.step(microgrid.sample_action(strict_bound=True))"
   ]
  },
  {
   "cell_type": "markdown",
   "id": "1a5c2a92",
   "metadata": {},
   "source": [
    "Here we will plot the load met, pv consumed and loss load:"
   ]
  },
  {
   "cell_type": "code",
   "execution_count": 30,
   "id": "603c4f14",
   "metadata": {
    "scrolled": false
   },
   "outputs": [
    {
     "data": {
      "text/plain": [
       "<Axes: >"
      ]
     },
     "execution_count": 30,
     "metadata": {},
     "output_type": "execute_result"
    },
    {
     "data": {
      "image/png": "[encoded data removed]",
      "text/plain": [
       "<Figure size 640x480 with 1 Axes>"
      ]
     },
     "metadata": {},
     "output_type": "display_data"
    }
   ],
   "source": [
    "microgrid.log[\n",
    "    [\n",
    "        (\"load\", 0, \"load_met\"),\n",
    "        (\"pv\", 0, \"renewable_used\"),\n",
    "        (\"balancing\", 0, \"loss_load\"),\n",
    "    ]\n",
    "].droplevel(axis=1, level=1).plot()"
   ]
  }
 ],
 "metadata": {
  "kernelspec": {
   "display_name": "Python 3 (ipykernel)",
   "language": "python",
   "name": "python3"
  },
  "language_info": {
   "codemirror_mode": {
    "name": "ipython",
    "version": 3
   },
   "file_extension": ".py",
   "mimetype": "text/x-python",
   "name": "python",
   "nbconvert_exporter": "python",
   "pygments_lexer": "ipython3",
   "version": "3.11.9"
  }
 },
 "nbformat": 4,
 "nbformat_minor": 5
}
