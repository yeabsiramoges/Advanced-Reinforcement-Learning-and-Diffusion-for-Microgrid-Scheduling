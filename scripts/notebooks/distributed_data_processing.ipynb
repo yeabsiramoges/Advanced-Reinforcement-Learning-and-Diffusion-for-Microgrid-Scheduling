{
 "cells": [
  {
   "cell_type": "code",
   "execution_count": 1,
   "metadata": {},
   "outputs": [
    {
     "name": "stderr",
     "output_type": "stream",
     "text": [
      "2024-08-14 22:32:55,981\tINFO util.py:154 -- Outdated packages:\n",
      "  ipywidgets==7.8.1 found, needs ipywidgets>=8\n",
      "Run `pip install -U ipywidgets`, then restart the notebook server for rich notebook output.\n"
     ]
    }
   ],
   "source": [
    "import ray\n",
    "import sys\n",
    "\n",
    "sys.path.append(\"..\")"
   ]
  },
  {
   "cell_type": "code",
   "execution_count": 2,
   "metadata": {},
   "outputs": [
    {
     "name": "stderr",
     "output_type": "stream",
     "text": [
      "2024-08-14 22:32:56,411\tINFO util.py:154 -- Outdated packages:\n",
      "  ipywidgets==7.8.1 found, needs ipywidgets>=8\n",
      "Run `pip install -U ipywidgets`, then restart the notebook server for rich notebook output.\n"
     ]
    }
   ],
   "source": [
    "ray.data.DatasetContext.get_current().execution_options.preserve_order = (\n",
    "    True  # deterministic\n",
    ")"
   ]
  },
  {
   "cell_type": "code",
   "execution_count": 3,
   "metadata": {},
   "outputs": [
    {
     "name": "stderr",
     "output_type": "stream",
     "text": [
      "2024-08-14 22:32:57,141\tINFO worker.py:1781 -- Started a local Ray instance.\n",
      "2024-08-14 22:32:58,350\tINFO dataset.py:2414 -- Tip: Use `take_batch()` instead of `take() / show()` to return records in pandas or numpy batch format.\n",
      "2024-08-14 22:32:58,353\tINFO streaming_executor.py:108 -- Starting execution of Dataset. Full logs are in /tmp/ray/session_2024-08-14_22-32-56_440193_30391/logs/ray-data\n",
      "2024-08-14 22:32:58,353\tINFO streaming_executor.py:109 -- Execution plan of Dataset: InputDataBuffer[Input] -> TaskPoolMapOperator[ReadCSV] -> AllToAllOperator[RandomShuffle] -> LimitOperator[limit=1]\n"
     ]
    },
    {
     "name": "stdout",
     "output_type": "stream",
     "text": [
      "[dataset]: Run `pip install tqdm` to enable progress reporting.\n"
     ]
    },
    {
     "data": {
      "text/plain": [
       "[{'time': datetime.datetime(2020, 2, 18, 21, 0),\n",
       "  'photovoltaic_production': 0.0,\n",
       "  'wind_production': 1.84,\n",
       "  'consumption': 25.01738667,\n",
       "  'spot_market_price': 0.11298,\n",
       "  'precip_1h:mm': 0.0,\n",
       "  'precip_type:idx': 0.0,\n",
       "  'prob_precip_1h:p': 1.0,\n",
       "  'clear_sky_rad:W': 0.0,\n",
       "  'clear_sky_energy_1h:J': 0.0,\n",
       "  'diffuse_rad:W': 0.0,\n",
       "  'diffuse_rad_1h:Wh': 0.0,\n",
       "  'direct_rad:W': 0.0,\n",
       "  'direct_rad_1h:Wh': 0.0,\n",
       "  'global_rad:W': 0.0,\n",
       "  'global_rad_1h:Wh': 0.0,\n",
       "  'sunshine_duration_1h:min': 0.0,\n",
       "  'sun_azimuth:d': 315.172,\n",
       "  'sun_elevation:d': -32.08,\n",
       "  'low_cloud_cover:p': 94.6,\n",
       "  'medium_cloud_cover:p': 91.9,\n",
       "  'high_cloud_cover:p': 90.9,\n",
       "  'total_cloud_cover:p': 100.0,\n",
       "  'effective_cloud_cover:p': 99.8,\n",
       "  'temp': 1.5,\n",
       "  'relative_humidity_2m:p': 92.4,\n",
       "  'dew_point_2m:C': 0.4,\n",
       "  'wind_speed_2m:ms': 1.6,\n",
       "  'wind_dir_2m:d': 207.4,\n",
       "  't_10m:C': 1.6,\n",
       "  'relative_humidity_10m:p': 92.0,\n",
       "  'dew_point_10m:C': 0.4,\n",
       "  'wind_speed_10m:ms': 2.3,\n",
       "  'wind_dir_10m:d': 207.4,\n",
       "  't_50m:C': 1.7,\n",
       "  'relative_humidity_50m:p': 90.8,\n",
       "  'dew_point_50m:C': 0.3,\n",
       "  'wind_speed_50m:ms': 3.3,\n",
       "  'wind_dir_50m:d': 217.7,\n",
       "  't_100m:C': 1.5,\n",
       "  'relative_humidity_100m:p': 89.9,\n",
       "  'dew_point_100m:C': 0.1,\n",
       "  'wind_speed_100m:ms': 4.2,\n",
       "  'wind_dir_100m:d': 230.6}]"
      ]
     },
     "execution_count": 3,
     "metadata": {},
     "output_type": "execute_result"
    }
   ],
   "source": [
    "# Seed\n",
    "rand_seed = 1234\n",
    "\n",
    "# Load training data\n",
    "dataset = ray.data.read_csv(\"../../data/rye/train.csv\")\n",
    "dataset = dataset.random_shuffle(seed=rand_seed)\n",
    "dataset.take(1)"
   ]
  },
  {
   "cell_type": "code",
   "execution_count": 4,
   "metadata": {},
   "outputs": [
    {
     "name": "stderr",
     "output_type": "stream",
     "text": [
      "2024-08-14 22:32:58,908\tINFO streaming_executor.py:108 -- Starting execution of Dataset. Full logs are in /tmp/ray/session_2024-08-14_22-32-56_440193_30391/logs/ray-data\n",
      "2024-08-14 22:32:58,908\tINFO streaming_executor.py:109 -- Execution plan of Dataset: InputDataBuffer[Input] -> TaskPoolMapOperator[ReadCSV] -> AllToAllOperator[RandomShuffle]\n",
      "2024-08-14 22:32:59,072\tINFO streaming_executor.py:108 -- Starting execution of Dataset. Full logs are in /tmp/ray/session_2024-08-14_22-32-56_440193_30391/logs/ray-data\n",
      "2024-08-14 22:32:59,072\tINFO streaming_executor.py:109 -- Execution plan of Dataset: InputDataBuffer[Input] -> TaskPoolMapOperator[ReadCSV] -> AllToAllOperator[RandomShuffle]\n"
     ]
    }
   ],
   "source": [
    "# Train/Val Split\n",
    "validation_size = 0.2\n",
    "train_ds, validation_ds = dataset.train_test_split(test_size=validation_size)"
   ]
  },
  {
   "cell_type": "markdown",
   "metadata": {},
   "source": [
    "# Preprocessing"
   ]
  },
  {
   "cell_type": "code",
   "execution_count": null,
   "metadata": {},
   "outputs": [],
   "source": [
    "# Mapping"
   ]
  }
 ],
 "metadata": {
  "kernelspec": {
   "display_name": "rldiff",
   "language": "python",
   "name": "python3"
  },
  "language_info": {
   "codemirror_mode": {
    "name": "ipython",
    "version": 3
   },
   "file_extension": ".py",
   "mimetype": "text/x-python",
   "name": "python",
   "nbconvert_exporter": "python",
   "pygments_lexer": "ipython3",
   "version": "3.11.9"
  }
 },
 "nbformat": 4,
 "nbformat_minor": 2
}
